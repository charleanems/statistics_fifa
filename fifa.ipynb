{
  "cells": [
    {
      "cell_type": "markdown",
      "metadata": {
        "id": "view-in-github",
        "colab_type": "text"
      },
      "source": [
        "<a href=\"https://colab.research.google.com/github/charleanems/statistics_fifa/blob/main/fifa.ipynb\" target=\"_parent\"><img src=\"https://colab.research.google.com/assets/colab-badge.svg\" alt=\"Open In Colab\"/></a>"
      ]
    },
    {
      "cell_type": "markdown",
      "metadata": {
        "id": "ddegBLAn-FJX"
      },
      "source": [
        "# Statistical with FIFA dataset"
      ]
    },
    {
      "cell_type": "markdown",
      "metadata": {
        "id": "Kuf8wMuP-FJY"
      },
      "source": [
        "***1) Pick a data set of your interest and upload it to your notebook using Python code.***"
      ]
    },
    {
      "cell_type": "markdown",
      "metadata": {
        "id": "pEKqVs1B-FJZ"
      },
      "source": [
        "It's imported Pandas library, then it is used the 'pd.read_csv()' function to read a CSV file."
      ]
    },
    {
      "cell_type": "code",
      "execution_count": null,
      "metadata": {
        "id": "pOCU1zNb-FJb"
      },
      "outputs": [],
      "source": [
        "import pandas as pd\n",
        "fifa = pd.read_csv('WorldCups.csv')"
      ]
    },
    {
      "cell_type": "markdown",
      "metadata": {
        "id": "9qdqCTah-FJe"
      },
      "source": [
        "***2) Add a small brief about that data set, and appropriate reference.***"
      ]
    },
    {
      "cell_type": "markdown",
      "metadata": {
        "id": "p51y2LOn-FJf"
      },
      "source": [
        "The World Cups data set shows several information about The FIFA World Cup from 1930 to 2014.\n",
        "\n",
        "About the features that we can find in this data set:\n",
        "\n",
        "\n",
        "Qualitative data:\n",
        "- Team winners (1st, 2nd, 3rd, and 4th places); ordinal data.\n",
        "- Countries where the World Cup happened; nominal data.\n",
        "\n",
        "\n",
        "Quantitative data:\n",
        "- Years when the World Cup happened, and also total of scores, matches, and participating teams; discrete data.\n",
        "- Total of attendance; continuous data.\n",
        "\n",
        "\n",
        "Data set is available at: https://www.kaggle.com/abecklas/fifa-world-cup"
      ]
    },
    {
      "cell_type": "markdown",
      "metadata": {
        "id": "Dq1AIr9k-FJh"
      },
      "source": [
        "***3) Using apropriate Python code show relevant information about the data set selected.***"
      ]
    },
    {
      "cell_type": "markdown",
      "metadata": {
        "id": "_oMphUyg-FJi"
      },
      "source": [
        "First, I have chosen '.info()' function to see main information about the data set in a general way, such as:\n",
        "\n",
        "- range of index = 0 to 19, or 20 positions/rows;\n",
        "- 20 entries, or rows, or observations;\n",
        "- 10 columns, or variables, or features;\n",
        "- the name of all columns, identifying features;\n",
        "- the count number of each column, the number of values it contains in each column;\n",
        "- the type of data of each column, in this case: integer (quantitative) and string (qualitative)\n",
        "- using around 1.7KB of memory.\n",
        "\n",
        "\n",
        "Apart from that, I would like to check the values of the data set and get to know more about it (to see the 'face' of this data set), in this way, one option could be the '.head()' function. It displays the first 5 rows of the data, however I'm including the number '20' inside the round brackets for displaying the full data set."
      ]
    },
    {
      "cell_type": "code",
      "execution_count": null,
      "metadata": {
        "id": "ZRrGTgj0-FJj",
        "outputId": "efa15087-49fe-4a2a-d772-dba4470a222d"
      },
      "outputs": [
        {
          "name": "stdout",
          "output_type": "stream",
          "text": [
            "<class 'pandas.core.frame.DataFrame'>\n",
            "RangeIndex: 20 entries, 0 to 19\n",
            "Data columns (total 10 columns):\n",
            " #   Column          Non-Null Count  Dtype \n",
            "---  ------          --------------  ----- \n",
            " 0   Year            20 non-null     int64 \n",
            " 1   Country         20 non-null     object\n",
            " 2   Winner          20 non-null     object\n",
            " 3   Runners-Up      20 non-null     object\n",
            " 4   Third           20 non-null     object\n",
            " 5   Fourth          20 non-null     object\n",
            " 6   GoalsScored     20 non-null     int64 \n",
            " 7   QualifiedTeams  20 non-null     int64 \n",
            " 8   MatchesPlayed   20 non-null     int64 \n",
            " 9   Attendance      20 non-null     object\n",
            "dtypes: int64(4), object(6)\n",
            "memory usage: 1.7+ KB\n"
          ]
        }
      ],
      "source": [
        "fifa.info()"
      ]
    },
    {
      "cell_type": "code",
      "execution_count": null,
      "metadata": {
        "id": "G08ivlPU-FJm",
        "outputId": "2491bc5c-30eb-43d8-fed7-c9506b5ecf41"
      },
      "outputs": [
        {
          "data": {
            "text/html": [
              "<div>\n",
              "<style scoped>\n",
              "    .dataframe tbody tr th:only-of-type {\n",
              "        vertical-align: middle;\n",
              "    }\n",
              "\n",
              "    .dataframe tbody tr th {\n",
              "        vertical-align: top;\n",
              "    }\n",
              "\n",
              "    .dataframe thead th {\n",
              "        text-align: right;\n",
              "    }\n",
              "</style>\n",
              "<table border=\"1\" class=\"dataframe\">\n",
              "  <thead>\n",
              "    <tr style=\"text-align: right;\">\n",
              "      <th></th>\n",
              "      <th>Year</th>\n",
              "      <th>Country</th>\n",
              "      <th>Winner</th>\n",
              "      <th>Runners-Up</th>\n",
              "      <th>Third</th>\n",
              "      <th>Fourth</th>\n",
              "      <th>GoalsScored</th>\n",
              "      <th>QualifiedTeams</th>\n",
              "      <th>MatchesPlayed</th>\n",
              "      <th>Attendance</th>\n",
              "    </tr>\n",
              "  </thead>\n",
              "  <tbody>\n",
              "    <tr>\n",
              "      <th>0</th>\n",
              "      <td>1930</td>\n",
              "      <td>Uruguay</td>\n",
              "      <td>Uruguay</td>\n",
              "      <td>Argentina</td>\n",
              "      <td>USA</td>\n",
              "      <td>Yugoslavia</td>\n",
              "      <td>70</td>\n",
              "      <td>13</td>\n",
              "      <td>18</td>\n",
              "      <td>590.549</td>\n",
              "    </tr>\n",
              "    <tr>\n",
              "      <th>1</th>\n",
              "      <td>1934</td>\n",
              "      <td>Italy</td>\n",
              "      <td>Italy</td>\n",
              "      <td>Czechoslovakia</td>\n",
              "      <td>Germany</td>\n",
              "      <td>Austria</td>\n",
              "      <td>70</td>\n",
              "      <td>16</td>\n",
              "      <td>17</td>\n",
              "      <td>363.000</td>\n",
              "    </tr>\n",
              "    <tr>\n",
              "      <th>2</th>\n",
              "      <td>1938</td>\n",
              "      <td>France</td>\n",
              "      <td>Italy</td>\n",
              "      <td>Hungary</td>\n",
              "      <td>Brazil</td>\n",
              "      <td>Sweden</td>\n",
              "      <td>84</td>\n",
              "      <td>15</td>\n",
              "      <td>18</td>\n",
              "      <td>375.700</td>\n",
              "    </tr>\n",
              "    <tr>\n",
              "      <th>3</th>\n",
              "      <td>1950</td>\n",
              "      <td>Brazil</td>\n",
              "      <td>Uruguay</td>\n",
              "      <td>Brazil</td>\n",
              "      <td>Sweden</td>\n",
              "      <td>Spain</td>\n",
              "      <td>88</td>\n",
              "      <td>13</td>\n",
              "      <td>22</td>\n",
              "      <td>1.045.246</td>\n",
              "    </tr>\n",
              "    <tr>\n",
              "      <th>4</th>\n",
              "      <td>1954</td>\n",
              "      <td>Switzerland</td>\n",
              "      <td>Germany FR</td>\n",
              "      <td>Hungary</td>\n",
              "      <td>Austria</td>\n",
              "      <td>Uruguay</td>\n",
              "      <td>140</td>\n",
              "      <td>16</td>\n",
              "      <td>26</td>\n",
              "      <td>768.607</td>\n",
              "    </tr>\n",
              "    <tr>\n",
              "      <th>5</th>\n",
              "      <td>1958</td>\n",
              "      <td>Sweden</td>\n",
              "      <td>Brazil</td>\n",
              "      <td>Sweden</td>\n",
              "      <td>France</td>\n",
              "      <td>Germany FR</td>\n",
              "      <td>126</td>\n",
              "      <td>16</td>\n",
              "      <td>35</td>\n",
              "      <td>819.810</td>\n",
              "    </tr>\n",
              "    <tr>\n",
              "      <th>6</th>\n",
              "      <td>1962</td>\n",
              "      <td>Chile</td>\n",
              "      <td>Brazil</td>\n",
              "      <td>Czechoslovakia</td>\n",
              "      <td>Chile</td>\n",
              "      <td>Yugoslavia</td>\n",
              "      <td>89</td>\n",
              "      <td>16</td>\n",
              "      <td>32</td>\n",
              "      <td>893.172</td>\n",
              "    </tr>\n",
              "    <tr>\n",
              "      <th>7</th>\n",
              "      <td>1966</td>\n",
              "      <td>England</td>\n",
              "      <td>England</td>\n",
              "      <td>Germany FR</td>\n",
              "      <td>Portugal</td>\n",
              "      <td>Soviet Union</td>\n",
              "      <td>89</td>\n",
              "      <td>16</td>\n",
              "      <td>32</td>\n",
              "      <td>1.563.135</td>\n",
              "    </tr>\n",
              "    <tr>\n",
              "      <th>8</th>\n",
              "      <td>1970</td>\n",
              "      <td>Mexico</td>\n",
              "      <td>Brazil</td>\n",
              "      <td>Italy</td>\n",
              "      <td>Germany FR</td>\n",
              "      <td>Uruguay</td>\n",
              "      <td>95</td>\n",
              "      <td>16</td>\n",
              "      <td>32</td>\n",
              "      <td>1.603.975</td>\n",
              "    </tr>\n",
              "    <tr>\n",
              "      <th>9</th>\n",
              "      <td>1974</td>\n",
              "      <td>Germany</td>\n",
              "      <td>Germany FR</td>\n",
              "      <td>Netherlands</td>\n",
              "      <td>Poland</td>\n",
              "      <td>Brazil</td>\n",
              "      <td>97</td>\n",
              "      <td>16</td>\n",
              "      <td>38</td>\n",
              "      <td>1.865.753</td>\n",
              "    </tr>\n",
              "    <tr>\n",
              "      <th>10</th>\n",
              "      <td>1978</td>\n",
              "      <td>Argentina</td>\n",
              "      <td>Argentina</td>\n",
              "      <td>Netherlands</td>\n",
              "      <td>Brazil</td>\n",
              "      <td>Italy</td>\n",
              "      <td>102</td>\n",
              "      <td>16</td>\n",
              "      <td>38</td>\n",
              "      <td>1.545.791</td>\n",
              "    </tr>\n",
              "    <tr>\n",
              "      <th>11</th>\n",
              "      <td>1982</td>\n",
              "      <td>Spain</td>\n",
              "      <td>Italy</td>\n",
              "      <td>Germany FR</td>\n",
              "      <td>Poland</td>\n",
              "      <td>France</td>\n",
              "      <td>146</td>\n",
              "      <td>24</td>\n",
              "      <td>52</td>\n",
              "      <td>2.109.723</td>\n",
              "    </tr>\n",
              "    <tr>\n",
              "      <th>12</th>\n",
              "      <td>1986</td>\n",
              "      <td>Mexico</td>\n",
              "      <td>Argentina</td>\n",
              "      <td>Germany FR</td>\n",
              "      <td>France</td>\n",
              "      <td>Belgium</td>\n",
              "      <td>132</td>\n",
              "      <td>24</td>\n",
              "      <td>52</td>\n",
              "      <td>2.394.031</td>\n",
              "    </tr>\n",
              "    <tr>\n",
              "      <th>13</th>\n",
              "      <td>1990</td>\n",
              "      <td>Italy</td>\n",
              "      <td>Germany FR</td>\n",
              "      <td>Argentina</td>\n",
              "      <td>Italy</td>\n",
              "      <td>England</td>\n",
              "      <td>115</td>\n",
              "      <td>24</td>\n",
              "      <td>52</td>\n",
              "      <td>2.516.215</td>\n",
              "    </tr>\n",
              "    <tr>\n",
              "      <th>14</th>\n",
              "      <td>1994</td>\n",
              "      <td>USA</td>\n",
              "      <td>Brazil</td>\n",
              "      <td>Italy</td>\n",
              "      <td>Sweden</td>\n",
              "      <td>Bulgaria</td>\n",
              "      <td>141</td>\n",
              "      <td>24</td>\n",
              "      <td>52</td>\n",
              "      <td>3.587.538</td>\n",
              "    </tr>\n",
              "    <tr>\n",
              "      <th>15</th>\n",
              "      <td>1998</td>\n",
              "      <td>France</td>\n",
              "      <td>France</td>\n",
              "      <td>Brazil</td>\n",
              "      <td>Croatia</td>\n",
              "      <td>Netherlands</td>\n",
              "      <td>171</td>\n",
              "      <td>32</td>\n",
              "      <td>64</td>\n",
              "      <td>2.785.100</td>\n",
              "    </tr>\n",
              "    <tr>\n",
              "      <th>16</th>\n",
              "      <td>2002</td>\n",
              "      <td>Korea/Japan</td>\n",
              "      <td>Brazil</td>\n",
              "      <td>Germany</td>\n",
              "      <td>Turkey</td>\n",
              "      <td>Korea Republic</td>\n",
              "      <td>161</td>\n",
              "      <td>32</td>\n",
              "      <td>64</td>\n",
              "      <td>2.705.197</td>\n",
              "    </tr>\n",
              "    <tr>\n",
              "      <th>17</th>\n",
              "      <td>2006</td>\n",
              "      <td>Germany</td>\n",
              "      <td>Italy</td>\n",
              "      <td>France</td>\n",
              "      <td>Germany</td>\n",
              "      <td>Portugal</td>\n",
              "      <td>147</td>\n",
              "      <td>32</td>\n",
              "      <td>64</td>\n",
              "      <td>3.359.439</td>\n",
              "    </tr>\n",
              "    <tr>\n",
              "      <th>18</th>\n",
              "      <td>2010</td>\n",
              "      <td>South Africa</td>\n",
              "      <td>Spain</td>\n",
              "      <td>Netherlands</td>\n",
              "      <td>Germany</td>\n",
              "      <td>Uruguay</td>\n",
              "      <td>145</td>\n",
              "      <td>32</td>\n",
              "      <td>64</td>\n",
              "      <td>3.178.856</td>\n",
              "    </tr>\n",
              "    <tr>\n",
              "      <th>19</th>\n",
              "      <td>2014</td>\n",
              "      <td>Brazil</td>\n",
              "      <td>Germany</td>\n",
              "      <td>Argentina</td>\n",
              "      <td>Netherlands</td>\n",
              "      <td>Brazil</td>\n",
              "      <td>171</td>\n",
              "      <td>32</td>\n",
              "      <td>64</td>\n",
              "      <td>3.386.810</td>\n",
              "    </tr>\n",
              "  </tbody>\n",
              "</table>\n",
              "</div>"
            ],
            "text/plain": [
              "    Year       Country      Winner      Runners-Up        Third  \\\n",
              "0   1930       Uruguay     Uruguay       Argentina          USA   \n",
              "1   1934         Italy       Italy  Czechoslovakia      Germany   \n",
              "2   1938        France       Italy         Hungary       Brazil   \n",
              "3   1950        Brazil     Uruguay          Brazil       Sweden   \n",
              "4   1954   Switzerland  Germany FR         Hungary      Austria   \n",
              "5   1958        Sweden      Brazil          Sweden       France   \n",
              "6   1962         Chile      Brazil  Czechoslovakia        Chile   \n",
              "7   1966       England     England      Germany FR     Portugal   \n",
              "8   1970        Mexico      Brazil           Italy   Germany FR   \n",
              "9   1974       Germany  Germany FR     Netherlands       Poland   \n",
              "10  1978     Argentina   Argentina     Netherlands       Brazil   \n",
              "11  1982         Spain       Italy      Germany FR       Poland   \n",
              "12  1986        Mexico   Argentina      Germany FR       France   \n",
              "13  1990         Italy  Germany FR       Argentina        Italy   \n",
              "14  1994           USA      Brazil           Italy       Sweden   \n",
              "15  1998        France      France          Brazil      Croatia   \n",
              "16  2002   Korea/Japan      Brazil         Germany       Turkey   \n",
              "17  2006       Germany       Italy          France      Germany   \n",
              "18  2010  South Africa       Spain     Netherlands      Germany   \n",
              "19  2014        Brazil     Germany       Argentina  Netherlands   \n",
              "\n",
              "            Fourth  GoalsScored  QualifiedTeams  MatchesPlayed Attendance  \n",
              "0       Yugoslavia           70              13             18    590.549  \n",
              "1          Austria           70              16             17    363.000  \n",
              "2           Sweden           84              15             18    375.700  \n",
              "3            Spain           88              13             22  1.045.246  \n",
              "4          Uruguay          140              16             26    768.607  \n",
              "5       Germany FR          126              16             35    819.810  \n",
              "6       Yugoslavia           89              16             32    893.172  \n",
              "7     Soviet Union           89              16             32  1.563.135  \n",
              "8          Uruguay           95              16             32  1.603.975  \n",
              "9           Brazil           97              16             38  1.865.753  \n",
              "10           Italy          102              16             38  1.545.791  \n",
              "11          France          146              24             52  2.109.723  \n",
              "12         Belgium          132              24             52  2.394.031  \n",
              "13         England          115              24             52  2.516.215  \n",
              "14        Bulgaria          141              24             52  3.587.538  \n",
              "15     Netherlands          171              32             64  2.785.100  \n",
              "16  Korea Republic          161              32             64  2.705.197  \n",
              "17        Portugal          147              32             64  3.359.439  \n",
              "18         Uruguay          145              32             64  3.178.856  \n",
              "19          Brazil          171              32             64  3.386.810  "
            ]
          },
          "execution_count": 3,
          "metadata": {},
          "output_type": "execute_result"
        }
      ],
      "source": [
        "fifa.head(20)"
      ]
    },
    {
      "cell_type": "markdown",
      "metadata": {
        "id": "WEqyWYfA-FJn"
      },
      "source": [
        "***4) Pick two different types of variables and calculate their central tendency measures if possible.***"
      ]
    },
    {
      "cell_type": "markdown",
      "metadata": {
        "id": "8BtXB_8F-FJo"
      },
      "source": [
        "The central tendency are the mean (average), median (middle point) and mode (the values that most repeat). So, it is used the .mean(), .median() and .mode() functions respectively.\n",
        "\n",
        "\n",
        "1st variable 'GoalsScored':\n",
        "- average: 118.95;\n",
        "- midle point: 120.5;\n",
        "- mode: it shows 3 values (70, 89, and 171), so it is a multimodal variable, in other words there are more than 2 values that are more repeated with the same frequency value;\n",
        "- in conclusion: as it is a quantitative variable, it is possible to calculate all central tendency successfully.\n",
        "\n",
        "\n",
        "2nd variable 'Winner':\n",
        "- average and and middle point are not possible to calculate them, because it is a qualitative variable (non-numeric);\n",
        "- mode: it shows only one value, a variable with an unique mode, thus this single value occurs more often;\n",
        "- in conclusion: as it is a qualitative variable (non-numeric), it is not possible to calculate the mean and median, except for the mode, which counts how many times a feature appears/repeat."
      ]
    },
    {
      "cell_type": "code",
      "execution_count": null,
      "metadata": {
        "id": "MI3j-7Db-FJo",
        "outputId": "bdf898d0-6ade-459b-9834-aa7946d7b68d"
      },
      "outputs": [
        {
          "name": "stdout",
          "output_type": "stream",
          "text": [
            "Goals mean: 118.95\n",
            "Goals median: 120.5\n",
            "Goals mode:\n",
            "0     70\n",
            "1     89\n",
            "2    171\n",
            "dtype: int64\n"
          ]
        }
      ],
      "source": [
        "average_goals = fifa['GoalsScored'].mean()\n",
        "median_goals = fifa['GoalsScored'].median()\n",
        "mode_goals = fifa['GoalsScored'].mode()\n",
        "print('Goals mean: {}\\nGoals median: {}\\nGoals mode:\\n{}'.format(average_goals, median_goals, mode_goals))"
      ]
    },
    {
      "cell_type": "code",
      "execution_count": null,
      "metadata": {
        "id": "d_igtFWv-FJp",
        "outputId": "08342b52-38a4-4399-cae8-79b2595de949"
      },
      "outputs": [
        {
          "name": "stdout",
          "output_type": "stream",
          "text": [
            "Winner mode:\n",
            " 0    Brazil\n",
            "dtype: object\n"
          ]
        }
      ],
      "source": [
        "mode_winner = fifa['Winner'].mode()\n",
        "print('Winner mode:\\n', mode_winner)"
      ]
    },
    {
      "cell_type": "markdown",
      "metadata": {
        "id": "OzjkDF7c-FJq"
      },
      "source": [
        "***5) Using the same variable calculate its standard deviation.***"
      ]
    },
    {
      "cell_type": "markdown",
      "metadata": {
        "id": "kG8n4wg1-FJr"
      },
      "source": [
        "The standard deviation is the mean value of the distance between each data point with the mean of the dataset. We can calculate it by '.std()' function.\n",
        "\n",
        "\n",
        "1st variable 'GoalsScored':\n",
        "\n",
        "\n",
        "- The standard deviation is 32.97283570966929, so we might expect it to be somewhat widespread around the average.\n",
        "\n",
        "\n",
        "2nd variable 'Winner':\n",
        "\n",
        "\n",
        "- The standard deviation is not possible to calculate it, because it is a qualitative variable (non-numeric)."
      ]
    },
    {
      "cell_type": "code",
      "execution_count": null,
      "metadata": {
        "id": "pb4QMlkV-FJr",
        "outputId": "c4a01838-b06b-4317-af73-f86728c34594"
      },
      "outputs": [
        {
          "data": {
            "text/plain": [
              "32.97283570966929"
            ]
          },
          "execution_count": 6,
          "metadata": {},
          "output_type": "execute_result"
        }
      ],
      "source": [
        "fifa['GoalsScored'].std()"
      ]
    },
    {
      "cell_type": "markdown",
      "metadata": {
        "id": "Z7-AJSDT-FJs"
      },
      "source": [
        "***6) Calculate the 5 number summary.***"
      ]
    },
    {
      "cell_type": "markdown",
      "metadata": {
        "id": "I8xi45H0-FJs"
      },
      "source": [
        "The 5 number summary are the min, Q1, median, Q3, and max values. We can get them by '.describe()' function.\n",
        "\n",
        "- Min: the lowest value;\n",
        "- Q1: the 1st part of the quantile, represented by 25%;\n",
        "- Median: midle point, or Q2 = the 2nd part of the quantile, represented by 50%;\n",
        "- Q3: the 3rd part of the quantile, represented by 75%;\n",
        "- max: the highest value.\n",
        "\n",
        "Firstly, the function is applyed for 1st variable 'GoalsScored', it worked out because it is a quantitative feature, the same it is not happen with 2nd variable 'Winner', because it is a qualitative feature (non-numeric).\n",
        "\n",
        "\n",
        "Then, the same function is applied for all data set, which displays the results only the features quantitative."
      ]
    },
    {
      "cell_type": "code",
      "execution_count": null,
      "metadata": {
        "id": "navk6PMW-FJt",
        "outputId": "f6ece562-e6a2-4066-f90e-c34a84ed3614"
      },
      "outputs": [
        {
          "data": {
            "text/plain": [
              "count     20.000000\n",
              "mean     118.950000\n",
              "std       32.972836\n",
              "min       70.000000\n",
              "25%       89.000000\n",
              "50%      120.500000\n",
              "75%      145.250000\n",
              "max      171.000000\n",
              "Name: GoalsScored, dtype: float64"
            ]
          },
          "execution_count": 7,
          "metadata": {},
          "output_type": "execute_result"
        }
      ],
      "source": [
        "fifa['GoalsScored'].describe()"
      ]
    },
    {
      "cell_type": "code",
      "execution_count": null,
      "metadata": {
        "id": "YhlCPr7C-FJu",
        "outputId": "bf312412-b740-47bb-aea9-78a39f3c0e6b"
      },
      "outputs": [
        {
          "data": {
            "text/html": [
              "<div>\n",
              "<style scoped>\n",
              "    .dataframe tbody tr th:only-of-type {\n",
              "        vertical-align: middle;\n",
              "    }\n",
              "\n",
              "    .dataframe tbody tr th {\n",
              "        vertical-align: top;\n",
              "    }\n",
              "\n",
              "    .dataframe thead th {\n",
              "        text-align: right;\n",
              "    }\n",
              "</style>\n",
              "<table border=\"1\" class=\"dataframe\">\n",
              "  <thead>\n",
              "    <tr style=\"text-align: right;\">\n",
              "      <th></th>\n",
              "      <th>Year</th>\n",
              "      <th>GoalsScored</th>\n",
              "      <th>QualifiedTeams</th>\n",
              "      <th>MatchesPlayed</th>\n",
              "    </tr>\n",
              "  </thead>\n",
              "  <tbody>\n",
              "    <tr>\n",
              "      <th>count</th>\n",
              "      <td>20.000000</td>\n",
              "      <td>20.000000</td>\n",
              "      <td>20.000000</td>\n",
              "      <td>20.000000</td>\n",
              "    </tr>\n",
              "    <tr>\n",
              "      <th>mean</th>\n",
              "      <td>1974.800000</td>\n",
              "      <td>118.950000</td>\n",
              "      <td>21.250000</td>\n",
              "      <td>41.800000</td>\n",
              "    </tr>\n",
              "    <tr>\n",
              "      <th>std</th>\n",
              "      <td>25.582889</td>\n",
              "      <td>32.972836</td>\n",
              "      <td>7.268352</td>\n",
              "      <td>17.218717</td>\n",
              "    </tr>\n",
              "    <tr>\n",
              "      <th>min</th>\n",
              "      <td>1930.000000</td>\n",
              "      <td>70.000000</td>\n",
              "      <td>13.000000</td>\n",
              "      <td>17.000000</td>\n",
              "    </tr>\n",
              "    <tr>\n",
              "      <th>25%</th>\n",
              "      <td>1957.000000</td>\n",
              "      <td>89.000000</td>\n",
              "      <td>16.000000</td>\n",
              "      <td>30.500000</td>\n",
              "    </tr>\n",
              "    <tr>\n",
              "      <th>50%</th>\n",
              "      <td>1976.000000</td>\n",
              "      <td>120.500000</td>\n",
              "      <td>16.000000</td>\n",
              "      <td>38.000000</td>\n",
              "    </tr>\n",
              "    <tr>\n",
              "      <th>75%</th>\n",
              "      <td>1995.000000</td>\n",
              "      <td>145.250000</td>\n",
              "      <td>26.000000</td>\n",
              "      <td>55.000000</td>\n",
              "    </tr>\n",
              "    <tr>\n",
              "      <th>max</th>\n",
              "      <td>2014.000000</td>\n",
              "      <td>171.000000</td>\n",
              "      <td>32.000000</td>\n",
              "      <td>64.000000</td>\n",
              "    </tr>\n",
              "  </tbody>\n",
              "</table>\n",
              "</div>"
            ],
            "text/plain": [
              "              Year  GoalsScored  QualifiedTeams  MatchesPlayed\n",
              "count    20.000000    20.000000       20.000000      20.000000\n",
              "mean   1974.800000   118.950000       21.250000      41.800000\n",
              "std      25.582889    32.972836        7.268352      17.218717\n",
              "min    1930.000000    70.000000       13.000000      17.000000\n",
              "25%    1957.000000    89.000000       16.000000      30.500000\n",
              "50%    1976.000000   120.500000       16.000000      38.000000\n",
              "75%    1995.000000   145.250000       26.000000      55.000000\n",
              "max    2014.000000   171.000000       32.000000      64.000000"
            ]
          },
          "execution_count": 8,
          "metadata": {},
          "output_type": "execute_result"
        }
      ],
      "source": [
        "fifa.describe()"
      ]
    },
    {
      "cell_type": "markdown",
      "metadata": {
        "id": "J5vhop6J-FJv"
      },
      "source": [
        "***7) Using appropriate graphics, plot the variables to get a better idea of its dispersion.***"
      ]
    },
    {
      "cell_type": "markdown",
      "metadata": {
        "id": "TKwfPKpY-FJv"
      },
      "source": [
        "1st variable 'GoalsScored': \n",
        "\n",
        "\n",
        "- As it is a quantitative variable, the visualisation can be done through the '.hist()' function. The histogram is a plot for numeric data. Thus, we can see in the histogram that the variable is right-skewed, and to confirm that, below it is calculated the skewness of the variable by '.skew()' function. The result is greater than 0, which means that the data is positioned to the right. Although, the mean is less than median indicating that it is a negative skew.\n",
        "\n",
        "\n",
        "- Extra info: The kurtosis of the variable is also calculated. The result is a negative value, thus the kurtosis is a steep peak. In this case, the histogram shows more than one steep peak.\n",
        "\n",
        "\n",
        "2nd variable 'Winner':\n",
        "\n",
        "\n",
        "- As it is NOT a quantitative data, the visualization can be done through the '.countplot()' function by the Seaborn library that counting the frequency of qualitative data (non-numeric). This plot shows how many times each country appears, so we can see that 'Brazil' is the country that repeat the most, followed by 'Italy', 'Germany' and so on.\n",
        "\n",
        "\n",
        "- In addition, below that plot it is calculate the number of frequency by '.value_counts()' function. That is another way to analyse the same information."
      ]
    },
    {
      "cell_type": "code",
      "execution_count": null,
      "metadata": {
        "id": "7ka6e5CX-FJw",
        "outputId": "4c02d1dc-3682-45b2-a0e1-53c89bebde74"
      },
      "outputs": [
        {
          "data": {
            "text/plain": [
              "<AxesSubplot:>"
            ]
          },
          "execution_count": 9,
          "metadata": {},
          "output_type": "execute_result"
        },
        {
          "data": {
            "image/png": "[encoded data removed]",
            "text/plain": [
              "<Figure size 432x288 with 1 Axes>"
            ]
          },
          "metadata": {
            "needs_background": "light"
          },
          "output_type": "display_data"
        }
      ],
      "source": [
        "fifa['GoalsScored'].hist(color=\"b\", alpha=0.3)"
      ]
    },
    {
      "cell_type": "code",
      "execution_count": null,
      "metadata": {
        "id": "VudsyFAR-FJw",
        "outputId": "758e0316-124e-46d2-d2d1-ed6bbc6d6ee9"
      },
      "outputs": [
        {
          "data": {
            "text/plain": [
              "0.07936221425714736"
            ]
          },
          "execution_count": 10,
          "metadata": {},
          "output_type": "execute_result"
        }
      ],
      "source": [
        "fifa['GoalsScored'].skew()"
      ]
    },
    {
      "cell_type": "code",
      "execution_count": null,
      "metadata": {
        "id": "fmvkjZp1-FJx",
        "outputId": "6a5a88c4-7455-4184-a1c4-065bff015afe"
      },
      "outputs": [
        {
          "data": {
            "text/plain": [
              "-1.3371945092403794"
            ]
          },
          "execution_count": 11,
          "metadata": {},
          "output_type": "execute_result"
        }
      ],
      "source": [
        "fifa['GoalsScored'].kurt()"
      ]
    },
    {
      "cell_type": "code",
      "execution_count": null,
      "metadata": {
        "id": "CcCzYK0s-FJy",
        "outputId": "230826e0-3792-4af1-a1b1-484b033cf0ef"
      },
      "outputs": [
        {
          "data": {
            "text/plain": [
              "<AxesSubplot:xlabel='count', ylabel='Winner'>"
            ]
          },
          "execution_count": 12,
          "metadata": {},
          "output_type": "execute_result"
        },
        {
          "data": {
            "image/png": "[encoded data removed]",
            "text/plain": [
              "<Figure size 432x288 with 1 Axes>"
            ]
          },
          "metadata": {
            "needs_background": "light"
          },
          "output_type": "display_data"
        }
      ],
      "source": [
        "import seaborn as sns\n",
        "sns.countplot(y='Winner', alpha=0.5, data=fifa)"
      ]
    },
    {
      "cell_type": "code",
      "execution_count": null,
      "metadata": {
        "id": "yMu-uBlY-FJy",
        "outputId": "422532ff-6735-4a95-91f8-bf373f08cc53"
      },
      "outputs": [
        {
          "data": {
            "text/plain": [
              "Brazil        5\n",
              "Italy         4\n",
              "Germany FR    3\n",
              "Uruguay       2\n",
              "Argentina     2\n",
              "Germany       1\n",
              "Spain         1\n",
              "England       1\n",
              "France        1\n",
              "Name: Winner, dtype: int64"
            ]
          },
          "execution_count": 13,
          "metadata": {},
          "output_type": "execute_result"
        }
      ],
      "source": [
        "fifa['Winner'].value_counts()"
      ]
    },
    {
      "cell_type": "markdown",
      "metadata": {
        "id": "z1hJVXBD-FJz"
      },
      "source": [
        "***8) Is it a normal distribuition? Provide a short analysis looking at the results you got in the previous items.***"
      ]
    },
    {
      "cell_type": "markdown",
      "metadata": {
        "id": "7ge_LeSI-FJz"
      },
      "source": [
        "1st variable 'GoalsScored': \n",
        "\n",
        "\n",
        "- No, because there is a slight difference between the mean and median values. It is also right-skewed, as it is mentioned at question 7; moreover the skewness is greater than 0.\n",
        "\n",
        "\n",
        "2nd variable 'Winner':\n",
        "\n",
        "\n",
        "-  Looking at the bar graph, we may say that it would not be a normal distribution. However, technically as it is a qualitative variable (non-numeric), it not possible to calculate its skewness, or mean, or median; in this way we cannot analyse its position/distribution."
      ]
    },
    {
      "cell_type": "markdown",
      "metadata": {
        "id": "6_gj4MSy-FJ0"
      },
      "source": [
        "***9) With all the information obtained above, analyse if the variables have missing values and/or outliers. Explain how you reach that conclusion.***"
      ]
    },
    {
      "cell_type": "markdown",
      "metadata": {
        "id": "xjjJOvoM-FJ0"
      },
      "source": [
        "- Missing values:\n",
        "\n",
        "\n",
        "There are NO missing values, we can see it in the '.info()' function above (question 3), the 'Non-Null Count' column, where all values represent the same value of entries/rows, as it is also shown in the '.describe()' function on the 'count' line (question 6). In addition, the '.isnull()' function confirms that in the line bellow.\n",
        "\n",
        "\n",
        "\n",
        "- Outiliers:\n",
        "\n",
        "There are NO outliers, we can confirm it in the '.describe()' function above (question 6), that there is no great gap between the values when we compare them, for example: min vs max, mean vs median, e etc. Furthermore, WorldCups is a small data set so by looking at '.head()' function above (question 3), we can deduce that every values are real values, not a human error. However, to make sure this analyse, it is plotted the 'plot.box()' function below."
      ]
    },
    {
      "cell_type": "code",
      "execution_count": null,
      "metadata": {
        "id": "u-0GyOQ--FJ1",
        "outputId": "ca0e4c62-b5c8-4818-bcb9-a214f2b71978"
      },
      "outputs": [
        {
          "name": "stdout",
          "output_type": "stream",
          "text": [
            "     Year  Country  Winner  Runners-Up  Third  Fourth  GoalsScored  \\\n",
            "0   False    False   False       False  False   False        False   \n",
            "1   False    False   False       False  False   False        False   \n",
            "2   False    False   False       False  False   False        False   \n",
            "3   False    False   False       False  False   False        False   \n",
            "4   False    False   False       False  False   False        False   \n",
            "5   False    False   False       False  False   False        False   \n",
            "6   False    False   False       False  False   False        False   \n",
            "7   False    False   False       False  False   False        False   \n",
            "8   False    False   False       False  False   False        False   \n",
            "9   False    False   False       False  False   False        False   \n",
            "10  False    False   False       False  False   False        False   \n",
            "11  False    False   False       False  False   False        False   \n",
            "12  False    False   False       False  False   False        False   \n",
            "13  False    False   False       False  False   False        False   \n",
            "14  False    False   False       False  False   False        False   \n",
            "15  False    False   False       False  False   False        False   \n",
            "16  False    False   False       False  False   False        False   \n",
            "17  False    False   False       False  False   False        False   \n",
            "18  False    False   False       False  False   False        False   \n",
            "19  False    False   False       False  False   False        False   \n",
            "\n",
            "    QualifiedTeams  MatchesPlayed  Attendance  \n",
            "0            False          False       False  \n",
            "1            False          False       False  \n",
            "2            False          False       False  \n",
            "3            False          False       False  \n",
            "4            False          False       False  \n",
            "5            False          False       False  \n",
            "6            False          False       False  \n",
            "7            False          False       False  \n",
            "8            False          False       False  \n",
            "9            False          False       False  \n",
            "10           False          False       False  \n",
            "11           False          False       False  \n",
            "12           False          False       False  \n",
            "13           False          False       False  \n",
            "14           False          False       False  \n",
            "15           False          False       False  \n",
            "16           False          False       False  \n",
            "17           False          False       False  \n",
            "18           False          False       False  \n",
            "19           False          False       False  \n"
          ]
        }
      ],
      "source": [
        "print(fifa.isnull())"
      ]
    },
    {
      "cell_type": "code",
      "execution_count": null,
      "metadata": {
        "id": "TMNel5Ke-FJ2",
        "outputId": "d5d5fc92-3685-4bc6-fb27-03a2f302a397"
      },
      "outputs": [
        {
          "data": {
            "text/plain": [
              "<AxesSubplot:>"
            ]
          },
          "execution_count": 15,
          "metadata": {},
          "output_type": "execute_result"
        },
        {
          "data": {
            "image/png": "[encoded data removed]",
            "text/plain": [
              "<Figure size 432x216 with 1 Axes>"
            ]
          },
          "metadata": {
            "needs_background": "light"
          },
          "output_type": "display_data"
        }
      ],
      "source": [
        "fifa.plot(kind='box', vert=True, figsize=(6, 3))"
      ]
    },
    {
      "cell_type": "markdown",
      "metadata": {
        "id": "dpVHqCVy-FJ2"
      },
      "source": [
        "***10) Pick 2 variables and plot their relation using an appropriate graphic. Provide a short analysis of what you observed.***"
      ]
    },
    {
      "cell_type": "markdown",
      "metadata": {
        "id": "lBWCX5Yt-FJ3"
      },
      "source": [
        "For this question, I am comparing the quantity of goal related to the quantity matches, in other words I want to see the evolution of goals after each football match. So, I picked 'MatchesPlayed' and 'GoalsScored' variables.\n",
        "\n",
        "To check the relation between 2 variables, it is necessary a scatter plot. Thus, it is imported the Seaborn library to execute this plot.\n",
        "\n",
        "After a analyse of the scatter plot, I would say that there is a positive correlation between the variables 'MatchesPlayed' and 'GoalsScored', because as the variable 'MatchesPlayed' increases, the variable 'GoalsScored' also increases."
      ]
    },
    {
      "cell_type": "code",
      "execution_count": null,
      "metadata": {
        "id": "GLIeFcdc-FJ3",
        "outputId": "95ea6507-c0a4-4ff4-a556-19686feaf6ae"
      },
      "outputs": [
        {
          "data": {
            "text/plain": [
              "<AxesSubplot:xlabel='MatchesPlayed', ylabel='GoalsScored'>"
            ]
          },
          "execution_count": 16,
          "metadata": {},
          "output_type": "execute_result"
        },
        {
          "data": {
            "image/png": "[encoded data removed]",
            "text/plain": [
              "<Figure size 432x288 with 1 Axes>"
            ]
          },
          "metadata": {
            "needs_background": "light"
          },
          "output_type": "display_data"
        }
      ],
      "source": [
        "sns.scatterplot(data=fifa, x='MatchesPlayed', y='GoalsScored')"
      ]
    },
    {
      "cell_type": "code",
      "execution_count": null,
      "metadata": {
        "id": "kpyiGxt7-FJ4"
      },
      "outputs": [],
      "source": []
    }
  ],
  "metadata": {
    "kernelspec": {
      "display_name": "Python 3",
      "language": "python",
      "name": "python3"
    },
    "language_info": {
      "codemirror_mode": {
        "name": "ipython",
        "version": 3
      },
      "file_extension": ".py",
      "mimetype": "text/x-python",
      "name": "python",
      "nbconvert_exporter": "python",
      "pygments_lexer": "ipython3",
      "version": "3.8.8"
    },
    "colab": {
      "provenance": [],
      "include_colab_link": true
    }
  },
  "nbformat": 4,
  "nbformat_minor": 0
}